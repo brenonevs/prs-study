{
 "cells": [
  {
   "cell_type": "markdown",
   "id": "b697d29a-4669-4b48-b3d3-afdfe4aaf0e6",
   "metadata": {},
   "source": [
    "# ***Atividade em aula***"
   ]
  },
  {
   "cell_type": "markdown",
   "id": "b50791a5-1d10-4c58-afc9-dd0360a00e03",
   "metadata": {},
   "source": [
    "# Exercício 1\n",
    "\n",
    "Em 95% dos casos, uma certa doença pode ser curada através de um procedimento cirúrgico. Se sorteamos 20 pacientes que possuem essa doença e os submetemos à cirurgia. Tratando o resultado (cura ou não cura) de cada um desses pacientes como eventos independentes, \n",
    "\n",
    "1. Qual a probabilidade de todos os pacientes serem curados da doença?\n",
    "2. Qual a probabilidade de nenhum dos pacientes ser curado da doença?\n",
    "3. Qual a probabilidade de ao menos 15 pacientes serem curados da doença?"
   ]
  },
  {
   "cell_type": "markdown",
   "id": "63fc1208-177f-439a-bf61-af4c40efc344",
   "metadata": {},
   "source": [
    "# Exercício 2\n",
    "\n",
    "Um laboratório admite que o número de partículas emitidas em um minuto por certo material radioativo A tem função de probabilidade Poisson com parâmetro $\\mu_A = 4$.\n",
    "\n",
    "1. Produza um gráfico da função de probabilidade Poisson com parâmetro $\\mu_A = 4$.\n",
    "2. Qual a probabilidade que, em dado minuto, mais de 6 partículas sejam emitidas pelo material A?\n",
    "3. Para um outro material B, a emissão de partículas por minuto tem função de probabilidade Poisson com parâmetro $\\mu_B = 0.7$. Em dado minuto, qual a probabilidade de nenhum dos materiais emitir partícula alguma. Considere a emissão de partículas pelos materiais como variáveis independentes.\n"
   ]
  },
  {
   "cell_type": "markdown",
   "id": "3ef67b2f-cea5-4c35-8f74-2627af9def40",
   "metadata": {},
   "source": [
    "# Exercício 3\n",
    "\n",
    "A distribuição geométrica possui a propriedade de \"perda de memória\".\n",
    "\n",
    "1. Pesquise e explique com suas palavras o que significa a propriedade de \"perda de memória\" (memorylessness).\n",
    "2. Qual a distribuição contínua que também possui a propriedade de \"perda de memória\".\n",
    "3. Crie um exemplo prático que ilustre a propriedade de \"perda de memória\"."
   ]
  },
  {
   "cell_type": "markdown",
   "id": "1c9931e4-750a-4fd4-a23a-d95ae23fd530",
   "metadata": {},
   "source": [
    "# Exercício 4\n",
    "\n",
    "O tempo necessário para a execução de um teste de aptidão feito por pilotos de aeronaves em treinamento é distribuido de acordo com uma Normal de 80 minutos de média e desvio padrão de 15 minutos.\n",
    "\n",
    "1. Qual a probabilidade de um aprendiz de piloto levar mais de uma hora para completar o teste?\n",
    "2. Qual a probabilidade de um aprendiz de piloto ser pelo menos 10 minutos mais rápido que a média para completar o teste?\n",
    "3. Em um grupo de 5 pilotos submetidos ao teste independentemente, qual a probabilidade de todos levarem entre 60 e 100 minutos para competar o teste?\n"
   ]
  },
  {
   "cell_type": "code",
   "execution_count": 2,
   "id": "0367e20c-c2fd-41dc-880c-7754708d4992",
   "metadata": {},
   "outputs": [
    {
     "ename": "ModuleNotFoundError",
     "evalue": "No module named 'scipy'",
     "output_type": "error",
     "traceback": [
      "\u001b[31m---------------------------------------------------------------------------\u001b[39m",
      "\u001b[31mModuleNotFoundError\u001b[39m                       Traceback (most recent call last)",
      "\u001b[36mCell\u001b[39m\u001b[36m \u001b[39m\u001b[32mIn[2]\u001b[39m\u001b[32m, line 2\u001b[39m\n\u001b[32m      1\u001b[39m \u001b[38;5;28;01mimport\u001b[39;00m\u001b[38;5;250m \u001b[39m\u001b[34;01mnumpy\u001b[39;00m\u001b[38;5;250m \u001b[39m\u001b[38;5;28;01mas\u001b[39;00m\u001b[38;5;250m \u001b[39m\u001b[34;01mnp\u001b[39;00m\n\u001b[32m----> \u001b[39m\u001b[32m2\u001b[39m \u001b[38;5;28;01mfrom\u001b[39;00m\u001b[38;5;250m \u001b[39m\u001b[34;01mscipy\u001b[39;00m\u001b[34;01m.\u001b[39;00m\u001b[34;01mstats\u001b[39;00m\u001b[38;5;250m \u001b[39m\u001b[38;5;28;01mimport\u001b[39;00m norm\n\u001b[32m      3\u001b[39m \u001b[38;5;28;01mimport\u001b[39;00m\u001b[38;5;250m \u001b[39m\u001b[34;01mmatplotlib\u001b[39;00m\u001b[34;01m.\u001b[39;00m\u001b[34;01mpyplot\u001b[39;00m\u001b[38;5;250m \u001b[39m\u001b[38;5;28;01mas\u001b[39;00m\u001b[38;5;250m \u001b[39m\u001b[34;01mplt\u001b[39;00m\n\u001b[32m      5\u001b[39m \u001b[38;5;28;01mdef\u001b[39;00m\u001b[38;5;250m \u001b[39m\u001b[34mcalcular_probabilidades_normal\u001b[39m():\n\u001b[32m      6\u001b[39m     \u001b[38;5;66;03m# Parâmetros da distribuição normal\u001b[39;00m\n",
      "\u001b[31mModuleNotFoundError\u001b[39m: No module named 'scipy'"
     ]
    }
   ],
   "source": [
    "import numpy as np\n",
    "from scipy.stats import norm\n",
    "import matplotlib.pyplot as plt\n",
    "\n",
    "def calcular_probabilidades_normal():\n",
    "    # Parâmetros da distribuição normal\n",
    "    media = 80  # média em minutos\n",
    "    desvio = 15  # desvio padrão em minutos\n",
    "    \n",
    "    # Criando valores para x\n",
    "    x = np.linspace(media - 4*desvio, media + 4*desvio, 100)\n",
    "    y = norm.pdf(x, media, desvio)\n",
    "    \n",
    "    # Criando o gráfico\n",
    "    plt.figure(figsize=(10, 6))\n",
    "    plt.plot(x, y, 'b-', linewidth=2)\n",
    "    plt.fill_between(x, y, where=(x > 60), color='blue', alpha=0.3)\n",
    "    plt.title('Distribuição Normal do Tempo de Teste')\n",
    "    plt.xlabel('Tempo (minutos)')\n",
    "    plt.ylabel('Densidade de Probabilidade')\n",
    "    plt.grid(True, alpha=0.3)\n",
    "    plt.show()\n",
    "    \n",
    "    # 1. Probabilidade de levar mais de uma hora (60 minutos)\n",
    "    prob_mais_60 = 1 - norm.cdf(60, media, desvio)\n",
    "    \n",
    "    # 2. Probabilidade de ser pelo menos 10 minutos mais rápido que a média\n",
    "    prob_mais_rapido = norm.cdf(media - 10, media, desvio)\n",
    "    \n",
    "    # 3. Probabilidade de todos os 5 pilotos levarem entre 60 e 100 minutos\n",
    "    prob_entre_60_100 = norm.cdf(100, media, desvio) - norm.cdf(60, media, desvio)\n",
    "    prob_todos_entre_60_100 = prob_entre_60_100 ** 5\n",
    "    \n",
    "    # Imprimindo os resultados\n",
    "    print(\"Resultados do Exercício 4:\")\n",
    "    print(\"-\" * 50)\n",
    "    print(f\"1. Probabilidade de levar mais de uma hora: {prob_mais_60:.4f} ou {prob_mais_60*100:.2f}%\")\n",
    "    print(f\"2. Probabilidade de ser pelo menos 10 minutos mais rápido que a média: {prob_mais_rapido:.4f} ou {prob_mais_rapido*100:.2f}%\")\n",
    "    print(f\"3. Probabilidade de todos os 5 pilotos levarem entre 60 e 100 minutos: {prob_todos_entre_60_100:.4f} ou {prob_todos_entre_60_100*100:.2f}%\")\n",
    "    \n",
    "    # Adicionando uma tabela de probabilidades\n",
    "    print(\"\\nTabela de probabilidades para diferentes tempos:\")\n",
    "    print(\"-\" * 50)\n",
    "    print(\"Tempo (min) | Probabilidade\")\n",
    "    print(\"-\" * 50)\n",
    "    tempos = [60, 70, 80, 90, 100]\n",
    "    for t in tempos:\n",
    "        prob = norm.cdf(t, media, desvio)\n",
    "        print(f\"{t:^11d} | {prob:.4f}\")\n",
    "\n",
    "if __name__ == \"__main__\":\n",
    "    calcular_probabilidades_normal()"
   ]
  },
  {
   "cell_type": "markdown",
   "id": "55c395a0",
   "metadata": {},
   "source": [
    "# ***Atividade em aula***"
   ]
  },
  {
   "cell_type": "markdown",
   "id": "d5c8d70a",
   "metadata": {},
   "source": [
    "# ***Atividade em aula***"
   ]
  },
  {
   "cell_type": "markdown",
   "id": "1e7f2d4f",
   "metadata": {},
   "source": [
    "# ***Atividade em aula***"
   ]
  },
  {
   "cell_type": "markdown",
   "id": "7fb40a57",
   "metadata": {},
   "source": [
    "# ***Atividade em aula***"
   ]
  },
  {
   "cell_type": "markdown",
   "id": "7c05aa13",
   "metadata": {},
   "source": [
    "# ***Atividade em aula***"
   ]
  },
  {
   "cell_type": "markdown",
   "id": "6a8ccdb1",
   "metadata": {},
   "source": [
    "# ***Atividade em aula***"
   ]
  },
  {
   "cell_type": "markdown",
   "id": "181c0300",
   "metadata": {},
   "source": [
    "# ***Atividade em aula***"
   ]
  },
  {
   "cell_type": "markdown",
   "id": "f9574b5a",
   "metadata": {},
   "source": [
    "# Exercício 1\n",
    "\n",
    "Em 95% dos casos, uma certa doença pode ser curada através de um procedimento cirúrgico. Se sorteamos 20 pacientes que possuem essa doença e os submetemos à cirurgia. Tratando o resultado (cura ou não cura) de cada um desses pacientes como eventos independentes, \n",
    "\n",
    "1. Qual a probabilidade de todos os pacientes serem curados da doença?\n",
    "2. Qual a probabilidade de nenhum dos pacientes ser curado da doença?\n",
    "3. Qual a probabilidade de ao menos 15 pacientes serem curados da doença?"
   ]
  },
  {
   "cell_type": "markdown",
   "id": "abcb5185",
   "metadata": {},
   "source": [
    "# Exercício 2\n",
    "\n",
    "Um laboratório admite que o número de partículas emitidas em um minuto por certo material radioativo A tem função de probabilidade Poisson com parâmetro $\\mu_A = 4$.\n",
    "\n",
    "1. Produza um gráfico da função de probabilidade Poisson com parâmetro $\\mu_A = 4$.\n",
    "2. Qual a probabilidade que, em dado minuto, mais de 6 partículas sejam emitidas pelo material A?\n",
    "3. Para um outro material B, a emissão de partículas por minuto tem função de probabilidade Poisson com parâmetro $\\mu_B = 0.7$. Em dado minuto, qual a probabilidade de nenhum dos materiais emitir partícula alguma. Considere a emissão de partículas pelos materiais como variáveis independentes.\n"
   ]
  },
  {
   "cell_type": "markdown",
   "id": "9d2920bf",
   "metadata": {},
   "source": [
    "# Exercício 3\n",
    "\n",
    "A distribuição geométrica possui a propriedade de \"perda de memória\".\n",
    "\n",
    "1. Pesquise e explique com suas palavras o que significa a propriedade de \"perda de memória\" (memorylessness).\n",
    "2. Qual a distribuição contínua que também possui a propriedade de \"perda de memória\".\n",
    "3. Crie um exemplo prático que ilustre a propriedade de \"perda de memória\"."
   ]
  },
  {
   "cell_type": "markdown",
   "id": "47b34e5b",
   "metadata": {},
   "source": [
    "# Exercício 4\n",
    "\n",
    "O tempo necessário para a execução de um teste de aptidão feito por pilotos de aeronaves em treinamento é distribuido de acordo com uma Normal de 80 minutos de média e desvio padrão de 15 minutos.\n",
    "\n",
    "1. Qual a probabilidade de um aprendiz de piloto levar mais de uma hora para completar o teste?\n",
    "2. Qual a probabilidade de um aprendiz de piloto ser pelo menos 10 minutos mais rápido que a média para completar o teste?\n",
    "3. Em um grupo de 5 pilotos submetidos ao teste independentemente, qual a probabilidade de todos levarem entre 60 e 100 minutos para competar o teste?\n"
   ]
  },
  {
   "cell_type": "code",
   "execution_count": null,
   "id": "b978ce4d",
   "metadata": {},
   "outputs": [
    {
     "ename": "ModuleNotFoundError",
     "evalue": "No module named 'scipy'",
     "output_type": "error",
     "traceback": [
      "\u001b[31m---------------------------------------------------------------------------\u001b[39m\n",
      "\u001b[31mModuleNotFoundError\u001b[39m                       Traceback (most recent call last)\n",
      "\u001b[36mCell\u001b[39m\u001b[36m \u001b[39m\u001b[32mIn[2]\u001b[39m\u001b[32m, line 2\u001b[39m\n",
      "\u001b[32m      1\u001b[39m \u001b[38;5;28;01mimport\u001b[39;00m\u001b[38;5;250m \u001b[39m\u001b[34;01mnumpy\u001b[39;00m\u001b[38;5;250m \u001b[39m\u001b[38;5;28;01mas\u001b[39;00m\u001b[38;5;250m \u001b[39m\u001b[34;01mnp\u001b[39;00m\n",
      "\u001b[32m----> \u001b[39m\u001b[32m2\u001b[39m \u001b[38;5;28;01mfrom\u001b[39;00m\u001b[38;5;250m \u001b[39m\u001b[34;01mscipy\u001b[39;00m\u001b[34;01m.\u001b[39;00m\u001b[34;01mstats\u001b[39;00m\u001b[38;5;250m \u001b[39m\u001b[38;5;28;01mimport\u001b[39;00m norm\n",
      "\u001b[32m      3\u001b[39m \u001b[38;5;28;01mimport\u001b[39;00m\u001b[38;5;250m \u001b[39m\u001b[34;01mmatplotlib\u001b[39;00m\u001b[34;01m.\u001b[39;00m\u001b[34;01mpyplot\u001b[39;00m\u001b[38;5;250m \u001b[39m\u001b[38;5;28;01mas\u001b[39;00m\u001b[38;5;250m \u001b[39m\u001b[34;01mplt\u001b[39;00m\n",
      "\u001b[32m      5\u001b[39m \u001b[38;5;28;01mdef\u001b[39;00m\u001b[38;5;250m \u001b[39m\u001b[34mcalcular_probabilidades_normal\u001b[39m():\n",
      "\u001b[32m      6\u001b[39m     \u001b[38;5;66;03m# Parâmetros da distribuição normal\u001b[39;00m\n",
      "\n",
      "\u001b[31mModuleNotFoundError\u001b[39m: No module named 'scipy'"
     ]
    }
   ],
   "source": [
    "import numpy as np\n",
    "from scipy.stats import norm\n",
    "import matplotlib.pyplot as plt\n",
    "\n",
    "def calcular_probabilidades_normal():\n",
    "    # Parâmetros da distribuição normal\n",
    "    media = 80  # média em minutos\n",
    "    desvio = 15  # desvio padrão em minutos\n",
    "    \n",
    "    # Criando valores para x\n",
    "    x = np.linspace(media - 4*desvio, media + 4*desvio, 100)\n",
    "    y = norm.pdf(x, media, desvio)\n",
    "    \n",
    "    # Criando o gráfico\n",
    "    plt.figure(figsize=(10, 6))\n",
    "    plt.plot(x, y, 'b-', linewidth=2)\n",
    "    plt.fill_between(x, y, where=(x > 60), color='blue', alpha=0.3)\n",
    "    plt.title('Distribuição Normal do Tempo de Teste')\n",
    "    plt.xlabel('Tempo (minutos)')\n",
    "    plt.ylabel('Densidade de Probabilidade')\n",
    "    plt.grid(True, alpha=0.3)\n",
    "    plt.show()\n",
    "    \n",
    "    # 1. Probabilidade de levar mais de uma hora (60 minutos)\n",
    "    prob_mais_60 = 1 - norm.cdf(60, media, desvio)\n",
    "    \n",
    "    # 2. Probabilidade de ser pelo menos 10 minutos mais rápido que a média\n",
    "    prob_mais_rapido = norm.cdf(media - 10, media, desvio)\n",
    "    \n",
    "    # 3. Probabilidade de todos os 5 pilotos levarem entre 60 e 100 minutos\n",
    "    prob_entre_60_100 = norm.cdf(100, media, desvio) - norm.cdf(60, media, desvio)\n",
    "    prob_todos_entre_60_100 = prob_entre_60_100 ** 5\n",
    "    \n",
    "    # Imprimindo os resultados\n",
    "    print(\"Resultados do Exercício 4:\")\n",
    "    print(\"-\" * 50)\n",
    "    print(f\"1. Probabilidade de levar mais de uma hora: {prob_mais_60:.4f} ou {prob_mais_60*100:.2f}%\")\n",
    "    print(f\"2. Probabilidade de ser pelo menos 10 minutos mais rápido que a média: {prob_mais_rapido:.4f} ou {prob_mais_rapido*100:.2f}%\")\n",
    "    print(f\"3. Probabilidade de todos os 5 pilotos levarem entre 60 e 100 minutos: {prob_todos_entre_60_100:.4f} ou {prob_todos_entre_60_100*100:.2f}%\")\n",
    "    \n",
    "    # Adicionando uma tabela de probabilidades\n",
    "    print(\"\\nTabela de probabilidades para diferentes tempos:\")\n",
    "    print(\"-\" * 50)\n",
    "    print(\"Tempo (min) | Probabilidade\")\n",
    "    print(\"-\" * 50)\n",
    "    tempos = [60, 70, 80, 90, 100]\n",
    "    for t in tempos:\n",
    "        prob = norm.cdf(t, media, desvio)\n",
    "        print(f\"{t:^11d} | {prob:.4f}\")\n",
    "\n",
    "if __name__ == \"__main__\":\n",
    "    calcular_probabilidades_normal()"
   ]
  },
  {
   "cell_type": "markdown",
   "id": "9041fa10",
   "metadata": {},
   "source": [
    "# Exercício 1\n",
    "\n",
    "Em 95% dos casos, uma certa doença pode ser curada através de um procedimento cirúrgico. Se sorteamos 20 pacientes que possuem essa doença e os submetemos à cirurgia. Tratando o resultado (cura ou não cura) de cada um desses pacientes como eventos independentes, \n",
    "\n",
    "1. Qual a probabilidade de todos os pacientes serem curados da doença?\n",
    "2. Qual a probabilidade de nenhum dos pacientes ser curado da doença?\n",
    "3. Qual a probabilidade de ao menos 15 pacientes serem curados da doença?"
   ]
  },
  {
   "cell_type": "markdown",
   "id": "0e19b755",
   "metadata": {},
   "source": [
    "# Exercício 2\n",
    "\n",
    "Um laboratório admite que o número de partículas emitidas em um minuto por certo material radioativo A tem função de probabilidade Poisson com parâmetro $\\mu_A = 4$.\n",
    "\n",
    "1. Produza um gráfico da função de probabilidade Poisson com parâmetro $\\mu_A = 4$.\n",
    "2. Qual a probabilidade que, em dado minuto, mais de 6 partículas sejam emitidas pelo material A?\n",
    "3. Para um outro material B, a emissão de partículas por minuto tem função de probabilidade Poisson com parâmetro $\\mu_B = 0.7$. Em dado minuto, qual a probabilidade de nenhum dos materiais emitir partícula alguma. Considere a emissão de partículas pelos materiais como variáveis independentes.\n"
   ]
  },
  {
   "cell_type": "markdown",
   "id": "5e352419",
   "metadata": {},
   "source": [
    "# Exercício 3\n",
    "\n",
    "A distribuição geométrica possui a propriedade de \"perda de memória\".\n",
    "\n",
    "1. Pesquise e explique com suas palavras o que significa a propriedade de \"perda de memória\" (memorylessness).\n",
    "2. Qual a distribuição contínua que também possui a propriedade de \"perda de memória\".\n",
    "3. Crie um exemplo prático que ilustre a propriedade de \"perda de memória\"."
   ]
  },
  {
   "cell_type": "markdown",
   "id": "98d926b4",
   "metadata": {},
   "source": [
    "# Exercício 4\n",
    "\n",
    "O tempo necessário para a execução de um teste de aptidão feito por pilotos de aeronaves em treinamento é distribuido de acordo com uma Normal de 80 minutos de média e desvio padrão de 15 minutos.\n",
    "\n",
    "1. Qual a probabilidade de um aprendiz de piloto levar mais de uma hora para completar o teste?\n",
    "2. Qual a probabilidade de um aprendiz de piloto ser pelo menos 10 minutos mais rápido que a média para completar o teste?\n",
    "3. Em um grupo de 5 pilotos submetidos ao teste independentemente, qual a probabilidade de todos levarem entre 60 e 100 minutos para competar o teste?\n"
   ]
  },
  {
   "cell_type": "code",
   "execution_count": null,
   "id": "f291dfa9",
   "metadata": {},
   "outputs": [
    {
     "ename": "ModuleNotFoundError",
     "evalue": "No module named 'scipy'",
     "output_type": "error",
     "traceback": [
      "\u001b[31m---------------------------------------------------------------------------\u001b[39m\n",
      "\u001b[31mModuleNotFoundError\u001b[39m                       Traceback (most recent call last)\n",
      "\u001b[36mCell\u001b[39m\u001b[36m \u001b[39m\u001b[32mIn[2]\u001b[39m\u001b[32m, line 2\u001b[39m\n",
      "\u001b[32m      1\u001b[39m \u001b[38;5;28;01mimport\u001b[39;00m\u001b[38;5;250m \u001b[39m\u001b[34;01mnumpy\u001b[39;00m\u001b[38;5;250m \u001b[39m\u001b[38;5;28;01mas\u001b[39;00m\u001b[38;5;250m \u001b[39m\u001b[34;01mnp\u001b[39;00m\n",
      "\u001b[32m----> \u001b[39m\u001b[32m2\u001b[39m \u001b[38;5;28;01mfrom\u001b[39;00m\u001b[38;5;250m \u001b[39m\u001b[34;01mscipy\u001b[39;00m\u001b[34;01m.\u001b[39;00m\u001b[34;01mstats\u001b[39;00m\u001b[38;5;250m \u001b[39m\u001b[38;5;28;01mimport\u001b[39;00m norm\n",
      "\u001b[32m      3\u001b[39m \u001b[38;5;28;01mimport\u001b[39;00m\u001b[38;5;250m \u001b[39m\u001b[34;01mmatplotlib\u001b[39;00m\u001b[34;01m.\u001b[39;00m\u001b[34;01mpyplot\u001b[39;00m\u001b[38;5;250m \u001b[39m\u001b[38;5;28;01mas\u001b[39;00m\u001b[38;5;250m \u001b[39m\u001b[34;01mplt\u001b[39;00m\n",
      "\u001b[32m      5\u001b[39m \u001b[38;5;28;01mdef\u001b[39;00m\u001b[38;5;250m \u001b[39m\u001b[34mcalcular_probabilidades_normal\u001b[39m():\n",
      "\u001b[32m      6\u001b[39m     \u001b[38;5;66;03m# Parâmetros da distribuição normal\u001b[39;00m\n",
      "\n",
      "\u001b[31mModuleNotFoundError\u001b[39m: No module named 'scipy'"
     ]
    }
   ],
   "source": [
    "import numpy as np\n",
    "from scipy.stats import norm\n",
    "import matplotlib.pyplot as plt\n",
    "\n",
    "def calcular_probabilidades_normal():\n",
    "    # Parâmetros da distribuição normal\n",
    "    media = 80  # média em minutos\n",
    "    desvio = 15  # desvio padrão em minutos\n",
    "    \n",
    "    # Criando valores para x\n",
    "    x = np.linspace(media - 4*desvio, media + 4*desvio, 100)\n",
    "    y = norm.pdf(x, media, desvio)\n",
    "    \n",
    "    # Criando o gráfico\n",
    "    plt.figure(figsize=(10, 6))\n",
    "    plt.plot(x, y, 'b-', linewidth=2)\n",
    "    plt.fill_between(x, y, where=(x > 60), color='blue', alpha=0.3)\n",
    "    plt.title('Distribuição Normal do Tempo de Teste')\n",
    "    plt.xlabel('Tempo (minutos)')\n",
    "    plt.ylabel('Densidade de Probabilidade')\n",
    "    plt.grid(True, alpha=0.3)\n",
    "    plt.show()\n",
    "    \n",
    "    # 1. Probabilidade de levar mais de uma hora (60 minutos)\n",
    "    prob_mais_60 = 1 - norm.cdf(60, media, desvio)\n",
    "    \n",
    "    # 2. Probabilidade de ser pelo menos 10 minutos mais rápido que a média\n",
    "    prob_mais_rapido = norm.cdf(media - 10, media, desvio)\n",
    "    \n",
    "    # 3. Probabilidade de todos os 5 pilotos levarem entre 60 e 100 minutos\n",
    "    prob_entre_60_100 = norm.cdf(100, media, desvio) - norm.cdf(60, media, desvio)\n",
    "    prob_todos_entre_60_100 = prob_entre_60_100 ** 5\n",
    "    \n",
    "    # Imprimindo os resultados\n",
    "    print(\"Resultados do Exercício 4:\")\n",
    "    print(\"-\" * 50)\n",
    "    print(f\"1. Probabilidade de levar mais de uma hora: {prob_mais_60:.4f} ou {prob_mais_60*100:.2f}%\")\n",
    "    print(f\"2. Probabilidade de ser pelo menos 10 minutos mais rápido que a média: {prob_mais_rapido:.4f} ou {prob_mais_rapido*100:.2f}%\")\n",
    "    print(f\"3. Probabilidade de todos os 5 pilotos levarem entre 60 e 100 minutos: {prob_todos_entre_60_100:.4f} ou {prob_todos_entre_60_100*100:.2f}%\")\n",
    "    \n",
    "    # Adicionando uma tabela de probabilidades\n",
    "    print(\"\\nTabela de probabilidades para diferentes tempos:\")\n",
    "    print(\"-\" * 50)\n",
    "    print(\"Tempo (min) | Probabilidade\")\n",
    "    print(\"-\" * 50)\n",
    "    tempos = [60, 70, 80, 90, 100]\n",
    "    for t in tempos:\n",
    "        prob = norm.cdf(t, media, desvio)\n",
    "        print(f\"{t:^11d} | {prob:.4f}\")\n",
    "\n",
    "if __name__ == \"__main__\":\n",
    "    calcular_probabilidades_normal()"
   ]
  },
  {
   "cell_type": "markdown",
   "id": "4e77d87b",
   "metadata": {},
   "source": [
    "# Exercício 1\n",
    "\n",
    "Em 95% dos casos, uma certa doença pode ser curada através de um procedimento cirúrgico. Se sorteamos 20 pacientes que possuem essa doença e os submetemos à cirurgia. Tratando o resultado (cura ou não cura) de cada um desses pacientes como eventos independentes, \n",
    "\n",
    "1. Qual a probabilidade de todos os pacientes serem curados da doença?\n",
    "2. Qual a probabilidade de nenhum dos pacientes ser curado da doença?\n",
    "3. Qual a probabilidade de ao menos 15 pacientes serem curados da doença?"
   ]
  },
  {
   "cell_type": "markdown",
   "id": "3900ede0",
   "metadata": {},
   "source": [
    "# Exercício 2\n",
    "\n",
    "Um laboratório admite que o número de partículas emitidas em um minuto por certo material radioativo A tem função de probabilidade Poisson com parâmetro $\\mu_A = 4$.\n",
    "\n",
    "1. Produza um gráfico da função de probabilidade Poisson com parâmetro $\\mu_A = 4$.\n",
    "2. Qual a probabilidade que, em dado minuto, mais de 6 partículas sejam emitidas pelo material A?\n",
    "3. Para um outro material B, a emissão de partículas por minuto tem função de probabilidade Poisson com parâmetro $\\mu_B = 0.7$. Em dado minuto, qual a probabilidade de nenhum dos materiais emitir partícula alguma. Considere a emissão de partículas pelos materiais como variáveis independentes.\n"
   ]
  },
  {
   "cell_type": "markdown",
   "id": "ac7eb26f",
   "metadata": {},
   "source": [
    "# Exercício 3\n",
    "\n",
    "A distribuição geométrica possui a propriedade de \"perda de memória\".\n",
    "\n",
    "1. Pesquise e explique com suas palavras o que significa a propriedade de \"perda de memória\" (memorylessness).\n",
    "2. Qual a distribuição contínua que também possui a propriedade de \"perda de memória\".\n",
    "3. Crie um exemplo prático que ilustre a propriedade de \"perda de memória\"."
   ]
  },
  {
   "cell_type": "markdown",
   "id": "c449226a",
   "metadata": {},
   "source": [
    "# Exercício 4\n",
    "\n",
    "O tempo necessário para a execução de um teste de aptidão feito por pilotos de aeronaves em treinamento é distribuido de acordo com uma Normal de 80 minutos de média e desvio padrão de 15 minutos.\n",
    "\n",
    "1. Qual a probabilidade de um aprendiz de piloto levar mais de uma hora para completar o teste?\n",
    "2. Qual a probabilidade de um aprendiz de piloto ser pelo menos 10 minutos mais rápido que a média para completar o teste?\n",
    "3. Em um grupo de 5 pilotos submetidos ao teste independentemente, qual a probabilidade de todos levarem entre 60 e 100 minutos para competar o teste?\n"
   ]
  },
  {
   "cell_type": "code",
   "execution_count": null,
   "id": "2dc1afb3",
   "metadata": {},
   "outputs": [
    {
     "ename": "ModuleNotFoundError",
     "evalue": "No module named 'scipy'",
     "output_type": "error",
     "traceback": [
      "\u001b[31m---------------------------------------------------------------------------\u001b[39m\n",
      "\u001b[31mModuleNotFoundError\u001b[39m                       Traceback (most recent call last)\n",
      "\u001b[36mCell\u001b[39m\u001b[36m \u001b[39m\u001b[32mIn[2]\u001b[39m\u001b[32m, line 2\u001b[39m\n",
      "\u001b[32m      1\u001b[39m \u001b[38;5;28;01mimport\u001b[39;00m\u001b[38;5;250m \u001b[39m\u001b[34;01mnumpy\u001b[39;00m\u001b[38;5;250m \u001b[39m\u001b[38;5;28;01mas\u001b[39;00m\u001b[38;5;250m \u001b[39m\u001b[34;01mnp\u001b[39;00m\n",
      "\u001b[32m----> \u001b[39m\u001b[32m2\u001b[39m \u001b[38;5;28;01mfrom\u001b[39;00m\u001b[38;5;250m \u001b[39m\u001b[34;01mscipy\u001b[39;00m\u001b[34;01m.\u001b[39;00m\u001b[34;01mstats\u001b[39;00m\u001b[38;5;250m \u001b[39m\u001b[38;5;28;01mimport\u001b[39;00m norm\n",
      "\u001b[32m      3\u001b[39m \u001b[38;5;28;01mimport\u001b[39;00m\u001b[38;5;250m \u001b[39m\u001b[34;01mmatplotlib\u001b[39;00m\u001b[34;01m.\u001b[39;00m\u001b[34;01mpyplot\u001b[39;00m\u001b[38;5;250m \u001b[39m\u001b[38;5;28;01mas\u001b[39;00m\u001b[38;5;250m \u001b[39m\u001b[34;01mplt\u001b[39;00m\n",
      "\u001b[32m      5\u001b[39m \u001b[38;5;28;01mdef\u001b[39;00m\u001b[38;5;250m \u001b[39m\u001b[34mcalcular_probabilidades_normal\u001b[39m():\n",
      "\u001b[32m      6\u001b[39m     \u001b[38;5;66;03m# Parâmetros da distribuição normal\u001b[39;00m\n",
      "\n",
      "\u001b[31mModuleNotFoundError\u001b[39m: No module named 'scipy'"
     ]
    }
   ],
   "source": [
    "import numpy as np\n",
    "from scipy.stats import norm\n",
    "import matplotlib.pyplot as plt\n",
    "\n",
    "def calcular_probabilidades_normal():\n",
    "    # Parâmetros da distribuição normal\n",
    "    media = 80  # média em minutos\n",
    "    desvio = 15  # desvio padrão em minutos\n",
    "    \n",
    "    # Criando valores para x\n",
    "    x = np.linspace(media - 4*desvio, media + 4*desvio, 100)\n",
    "    y = norm.pdf(x, media, desvio)\n",
    "    \n",
    "    # Criando o gráfico\n",
    "    plt.figure(figsize=(10, 6))\n",
    "    plt.plot(x, y, 'b-', linewidth=2)\n",
    "    plt.fill_between(x, y, where=(x > 60), color='blue', alpha=0.3)\n",
    "    plt.title('Distribuição Normal do Tempo de Teste')\n",
    "    plt.xlabel('Tempo (minutos)')\n",
    "    plt.ylabel('Densidade de Probabilidade')\n",
    "    plt.grid(True, alpha=0.3)\n",
    "    plt.show()\n",
    "    \n",
    "    # 1. Probabilidade de levar mais de uma hora (60 minutos)\n",
    "    prob_mais_60 = 1 - norm.cdf(60, media, desvio)\n",
    "    \n",
    "    # 2. Probabilidade de ser pelo menos 10 minutos mais rápido que a média\n",
    "    prob_mais_rapido = norm.cdf(media - 10, media, desvio)\n",
    "    \n",
    "    # 3. Probabilidade de todos os 5 pilotos levarem entre 60 e 100 minutos\n",
    "    prob_entre_60_100 = norm.cdf(100, media, desvio) - norm.cdf(60, media, desvio)\n",
    "    prob_todos_entre_60_100 = prob_entre_60_100 ** 5\n",
    "    \n",
    "    # Imprimindo os resultados\n",
    "    print(\"Resultados do Exercício 4:\")\n",
    "    print(\"-\" * 50)\n",
    "    print(f\"1. Probabilidade de levar mais de uma hora: {prob_mais_60:.4f} ou {prob_mais_60*100:.2f}%\")\n",
    "    print(f\"2. Probabilidade de ser pelo menos 10 minutos mais rápido que a média: {prob_mais_rapido:.4f} ou {prob_mais_rapido*100:.2f}%\")\n",
    "    print(f\"3. Probabilidade de todos os 5 pilotos levarem entre 60 e 100 minutos: {prob_todos_entre_60_100:.4f} ou {prob_todos_entre_60_100*100:.2f}%\")\n",
    "    \n",
    "    # Adicionando uma tabela de probabilidades\n",
    "    print(\"\\nTabela de probabilidades para diferentes tempos:\")\n",
    "    print(\"-\" * 50)\n",
    "    print(\"Tempo (min) | Probabilidade\")\n",
    "    print(\"-\" * 50)\n",
    "    tempos = [60, 70, 80, 90, 100]\n",
    "    for t in tempos:\n",
    "        prob = norm.cdf(t, media, desvio)\n",
    "        print(f\"{t:^11d} | {prob:.4f}\")\n",
    "\n",
    "if __name__ == \"__main__\":\n",
    "    calcular_probabilidades_normal()"
   ]
  },
  {
   "cell_type": "markdown",
   "id": "d1b40e85",
   "metadata": {},
   "source": [
    "# Exercício 1\n",
    "\n",
    "Em 95% dos casos, uma certa doença pode ser curada através de um procedimento cirúrgico. Se sorteamos 20 pacientes que possuem essa doença e os submetemos à cirurgia. Tratando o resultado (cura ou não cura) de cada um desses pacientes como eventos independentes, \n",
    "\n",
    "1. Qual a probabilidade de todos os pacientes serem curados da doença?\n",
    "2. Qual a probabilidade de nenhum dos pacientes ser curado da doença?\n",
    "3. Qual a probabilidade de ao menos 15 pacientes serem curados da doença?"
   ]
  },
  {
   "cell_type": "markdown",
   "id": "8e8e2213",
   "metadata": {},
   "source": [
    "# Exercício 2\n",
    "\n",
    "Um laboratório admite que o número de partículas emitidas em um minuto por certo material radioativo A tem função de probabilidade Poisson com parâmetro $\\mu_A = 4$.\n",
    "\n",
    "1. Produza um gráfico da função de probabilidade Poisson com parâmetro $\\mu_A = 4$.\n",
    "2. Qual a probabilidade que, em dado minuto, mais de 6 partículas sejam emitidas pelo material A?\n",
    "3. Para um outro material B, a emissão de partículas por minuto tem função de probabilidade Poisson com parâmetro $\\mu_B = 0.7$. Em dado minuto, qual a probabilidade de nenhum dos materiais emitir partícula alguma. Considere a emissão de partículas pelos materiais como variáveis independentes.\n"
   ]
  },
  {
   "cell_type": "markdown",
   "id": "49153768",
   "metadata": {},
   "source": [
    "# Exercício 3\n",
    "\n",
    "A distribuição geométrica possui a propriedade de \"perda de memória\".\n",
    "\n",
    "1. Pesquise e explique com suas palavras o que significa a propriedade de \"perda de memória\" (memorylessness).\n",
    "2. Qual a distribuição contínua que também possui a propriedade de \"perda de memória\".\n",
    "3. Crie um exemplo prático que ilustre a propriedade de \"perda de memória\"."
   ]
  },
  {
   "cell_type": "markdown",
   "id": "37cbdffc",
   "metadata": {},
   "source": [
    "# Exercício 4\n",
    "\n",
    "O tempo necessário para a execução de um teste de aptidão feito por pilotos de aeronaves em treinamento é distribuido de acordo com uma Normal de 80 minutos de média e desvio padrão de 15 minutos.\n",
    "\n",
    "1. Qual a probabilidade de um aprendiz de piloto levar mais de uma hora para completar o teste?\n",
    "2. Qual a probabilidade de um aprendiz de piloto ser pelo menos 10 minutos mais rápido que a média para completar o teste?\n",
    "3. Em um grupo de 5 pilotos submetidos ao teste independentemente, qual a probabilidade de todos levarem entre 60 e 100 minutos para competar o teste?\n"
   ]
  },
  {
   "cell_type": "code",
   "execution_count": null,
   "id": "4cfa941d",
   "metadata": {},
   "outputs": [
    {
     "ename": "ModuleNotFoundError",
     "evalue": "No module named 'scipy'",
     "output_type": "error",
     "traceback": [
      "\u001b[31m---------------------------------------------------------------------------\u001b[39m\n",
      "\u001b[31mModuleNotFoundError\u001b[39m                       Traceback (most recent call last)\n",
      "\u001b[36mCell\u001b[39m\u001b[36m \u001b[39m\u001b[32mIn[2]\u001b[39m\u001b[32m, line 2\u001b[39m\n",
      "\u001b[32m      1\u001b[39m \u001b[38;5;28;01mimport\u001b[39;00m\u001b[38;5;250m \u001b[39m\u001b[34;01mnumpy\u001b[39;00m\u001b[38;5;250m \u001b[39m\u001b[38;5;28;01mas\u001b[39;00m\u001b[38;5;250m \u001b[39m\u001b[34;01mnp\u001b[39;00m\n",
      "\u001b[32m----> \u001b[39m\u001b[32m2\u001b[39m \u001b[38;5;28;01mfrom\u001b[39;00m\u001b[38;5;250m \u001b[39m\u001b[34;01mscipy\u001b[39;00m\u001b[34;01m.\u001b[39;00m\u001b[34;01mstats\u001b[39;00m\u001b[38;5;250m \u001b[39m\u001b[38;5;28;01mimport\u001b[39;00m norm\n",
      "\u001b[32m      3\u001b[39m \u001b[38;5;28;01mimport\u001b[39;00m\u001b[38;5;250m \u001b[39m\u001b[34;01mmatplotlib\u001b[39;00m\u001b[34;01m.\u001b[39;00m\u001b[34;01mpyplot\u001b[39;00m\u001b[38;5;250m \u001b[39m\u001b[38;5;28;01mas\u001b[39;00m\u001b[38;5;250m \u001b[39m\u001b[34;01mplt\u001b[39;00m\n",
      "\u001b[32m      5\u001b[39m \u001b[38;5;28;01mdef\u001b[39;00m\u001b[38;5;250m \u001b[39m\u001b[34mcalcular_probabilidades_normal\u001b[39m():\n",
      "\u001b[32m      6\u001b[39m     \u001b[38;5;66;03m# Parâmetros da distribuição normal\u001b[39;00m\n",
      "\n",
      "\u001b[31mModuleNotFoundError\u001b[39m: No module named 'scipy'"
     ]
    }
   ],
   "source": [
    "import numpy as np\n",
    "from scipy.stats import norm\n",
    "import matplotlib.pyplot as plt\n",
    "\n",
    "def calcular_probabilidades_normal():\n",
    "    # Parâmetros da distribuição normal\n",
    "    media = 80  # média em minutos\n",
    "    desvio = 15  # desvio padrão em minutos\n",
    "    \n",
    "    # Criando valores para x\n",
    "    x = np.linspace(media - 4*desvio, media + 4*desvio, 100)\n",
    "    y = norm.pdf(x, media, desvio)\n",
    "    \n",
    "    # Criando o gráfico\n",
    "    plt.figure(figsize=(10, 6))\n",
    "    plt.plot(x, y, 'b-', linewidth=2)\n",
    "    plt.fill_between(x, y, where=(x > 60), color='blue', alpha=0.3)\n",
    "    plt.title('Distribuição Normal do Tempo de Teste')\n",
    "    plt.xlabel('Tempo (minutos)')\n",
    "    plt.ylabel('Densidade de Probabilidade')\n",
    "    plt.grid(True, alpha=0.3)\n",
    "    plt.show()\n",
    "    \n",
    "    # 1. Probabilidade de levar mais de uma hora (60 minutos)\n",
    "    prob_mais_60 = 1 - norm.cdf(60, media, desvio)\n",
    "    \n",
    "    # 2. Probabilidade de ser pelo menos 10 minutos mais rápido que a média\n",
    "    prob_mais_rapido = norm.cdf(media - 10, media, desvio)\n",
    "    \n",
    "    # 3. Probabilidade de todos os 5 pilotos levarem entre 60 e 100 minutos\n",
    "    prob_entre_60_100 = norm.cdf(100, media, desvio) - norm.cdf(60, media, desvio)\n",
    "    prob_todos_entre_60_100 = prob_entre_60_100 ** 5\n",
    "    \n",
    "    # Imprimindo os resultados\n",
    "    print(\"Resultados do Exercício 4:\")\n",
    "    print(\"-\" * 50)\n",
    "    print(f\"1. Probabilidade de levar mais de uma hora: {prob_mais_60:.4f} ou {prob_mais_60*100:.2f}%\")\n",
    "    print(f\"2. Probabilidade de ser pelo menos 10 minutos mais rápido que a média: {prob_mais_rapido:.4f} ou {prob_mais_rapido*100:.2f}%\")\n",
    "    print(f\"3. Probabilidade de todos os 5 pilotos levarem entre 60 e 100 minutos: {prob_todos_entre_60_100:.4f} ou {prob_todos_entre_60_100*100:.2f}%\")\n",
    "    \n",
    "    # Adicionando uma tabela de probabilidades\n",
    "    print(\"\\nTabela de probabilidades para diferentes tempos:\")\n",
    "    print(\"-\" * 50)\n",
    "    print(\"Tempo (min) | Probabilidade\")\n",
    "    print(\"-\" * 50)\n",
    "    tempos = [60, 70, 80, 90, 100]\n",
    "    for t in tempos:\n",
    "        prob = norm.cdf(t, media, desvio)\n",
    "        print(f\"{t:^11d} | {prob:.4f}\")\n",
    "\n",
    "if __name__ == \"__main__\":\n",
    "    calcular_probabilidades_normal()"
   ]
  },
  {
   "cell_type": "markdown",
   "id": "03d70858",
   "metadata": {},
   "source": [
    "# Exercício 1\n",
    "\n",
    "Em 95% dos casos, uma certa doença pode ser curada através de um procedimento cirúrgico. Se sorteamos 20 pacientes que possuem essa doença e os submetemos à cirurgia. Tratando o resultado (cura ou não cura) de cada um desses pacientes como eventos independentes, \n",
    "\n",
    "1. Qual a probabilidade de todos os pacientes serem curados da doença?\n",
    "2. Qual a probabilidade de nenhum dos pacientes ser curado da doença?\n",
    "3. Qual a probabilidade de ao menos 15 pacientes serem curados da doença?"
   ]
  },
  {
   "cell_type": "markdown",
   "id": "5635326d",
   "metadata": {},
   "source": [
    "# Exercício 2\n",
    "\n",
    "Um laboratório admite que o número de partículas emitidas em um minuto por certo material radioativo A tem função de probabilidade Poisson com parâmetro $\\mu_A = 4$.\n",
    "\n",
    "1. Produza um gráfico da função de probabilidade Poisson com parâmetro $\\mu_A = 4$.\n",
    "2. Qual a probabilidade que, em dado minuto, mais de 6 partículas sejam emitidas pelo material A?\n",
    "3. Para um outro material B, a emissão de partículas por minuto tem função de probabilidade Poisson com parâmetro $\\mu_B = 0.7$. Em dado minuto, qual a probabilidade de nenhum dos materiais emitir partícula alguma. Considere a emissão de partículas pelos materiais como variáveis independentes.\n"
   ]
  },
  {
   "cell_type": "markdown",
   "id": "f0ef3add",
   "metadata": {},
   "source": [
    "# Exercício 3\n",
    "\n",
    "A distribuição geométrica possui a propriedade de \"perda de memória\".\n",
    "\n",
    "1. Pesquise e explique com suas palavras o que significa a propriedade de \"perda de memória\" (memorylessness).\n",
    "2. Qual a distribuição contínua que também possui a propriedade de \"perda de memória\".\n",
    "3. Crie um exemplo prático que ilustre a propriedade de \"perda de memória\"."
   ]
  },
  {
   "cell_type": "markdown",
   "id": "349d4d4e",
   "metadata": {},
   "source": [
    "# Exercício 4\n",
    "\n",
    "O tempo necessário para a execução de um teste de aptidão feito por pilotos de aeronaves em treinamento é distribuido de acordo com uma Normal de 80 minutos de média e desvio padrão de 15 minutos.\n",
    "\n",
    "1. Qual a probabilidade de um aprendiz de piloto levar mais de uma hora para completar o teste?\n",
    "2. Qual a probabilidade de um aprendiz de piloto ser pelo menos 10 minutos mais rápido que a média para completar o teste?\n",
    "3. Em um grupo de 5 pilotos submetidos ao teste independentemente, qual a probabilidade de todos levarem entre 60 e 100 minutos para competar o teste?\n"
   ]
  },
  {
   "cell_type": "code",
   "execution_count": null,
   "id": "62f7dd27",
   "metadata": {},
   "outputs": [
    {
     "ename": "ModuleNotFoundError",
     "evalue": "No module named 'scipy'",
     "output_type": "error",
     "traceback": [
      "\u001b[31m---------------------------------------------------------------------------\u001b[39m\n",
      "\u001b[31mModuleNotFoundError\u001b[39m                       Traceback (most recent call last)\n",
      "\u001b[36mCell\u001b[39m\u001b[36m \u001b[39m\u001b[32mIn[2]\u001b[39m\u001b[32m, line 2\u001b[39m\n",
      "\u001b[32m      1\u001b[39m \u001b[38;5;28;01mimport\u001b[39;00m\u001b[38;5;250m \u001b[39m\u001b[34;01mnumpy\u001b[39;00m\u001b[38;5;250m \u001b[39m\u001b[38;5;28;01mas\u001b[39;00m\u001b[38;5;250m \u001b[39m\u001b[34;01mnp\u001b[39;00m\n",
      "\u001b[32m----> \u001b[39m\u001b[32m2\u001b[39m \u001b[38;5;28;01mfrom\u001b[39;00m\u001b[38;5;250m \u001b[39m\u001b[34;01mscipy\u001b[39;00m\u001b[34;01m.\u001b[39;00m\u001b[34;01mstats\u001b[39;00m\u001b[38;5;250m \u001b[39m\u001b[38;5;28;01mimport\u001b[39;00m norm\n",
      "\u001b[32m      3\u001b[39m \u001b[38;5;28;01mimport\u001b[39;00m\u001b[38;5;250m \u001b[39m\u001b[34;01mmatplotlib\u001b[39;00m\u001b[34;01m.\u001b[39;00m\u001b[34;01mpyplot\u001b[39;00m\u001b[38;5;250m \u001b[39m\u001b[38;5;28;01mas\u001b[39;00m\u001b[38;5;250m \u001b[39m\u001b[34;01mplt\u001b[39;00m\n",
      "\u001b[32m      5\u001b[39m \u001b[38;5;28;01mdef\u001b[39;00m\u001b[38;5;250m \u001b[39m\u001b[34mcalcular_probabilidades_normal\u001b[39m():\n",
      "\u001b[32m      6\u001b[39m     \u001b[38;5;66;03m# Parâmetros da distribuição normal\u001b[39;00m\n",
      "\n",
      "\u001b[31mModuleNotFoundError\u001b[39m: No module named 'scipy'"
     ]
    }
   ],
   "source": [
    "import numpy as np\n",
    "from scipy.stats import norm\n",
    "import matplotlib.pyplot as plt\n",
    "\n",
    "def calcular_probabilidades_normal():\n",
    "    # Parâmetros da distribuição normal\n",
    "    media = 80  # média em minutos\n",
    "    desvio = 15  # desvio padrão em minutos\n",
    "    \n",
    "    # Criando valores para x\n",
    "    x = np.linspace(media - 4*desvio, media + 4*desvio, 100)\n",
    "    y = norm.pdf(x, media, desvio)\n",
    "    \n",
    "    # Criando o gráfico\n",
    "    plt.figure(figsize=(10, 6))\n",
    "    plt.plot(x, y, 'b-', linewidth=2)\n",
    "    plt.fill_between(x, y, where=(x > 60), color='blue', alpha=0.3)\n",
    "    plt.title('Distribuição Normal do Tempo de Teste')\n",
    "    plt.xlabel('Tempo (minutos)')\n",
    "    plt.ylabel('Densidade de Probabilidade')\n",
    "    plt.grid(True, alpha=0.3)\n",
    "    plt.show()\n",
    "    \n",
    "    # 1. Probabilidade de levar mais de uma hora (60 minutos)\n",
    "    prob_mais_60 = 1 - norm.cdf(60, media, desvio)\n",
    "    \n",
    "    # 2. Probabilidade de ser pelo menos 10 minutos mais rápido que a média\n",
    "    prob_mais_rapido = norm.cdf(media - 10, media, desvio)\n",
    "    \n",
    "    # 3. Probabilidade de todos os 5 pilotos levarem entre 60 e 100 minutos\n",
    "    prob_entre_60_100 = norm.cdf(100, media, desvio) - norm.cdf(60, media, desvio)\n",
    "    prob_todos_entre_60_100 = prob_entre_60_100 ** 5\n",
    "    \n",
    "    # Imprimindo os resultados\n",
    "    print(\"Resultados do Exercício 4:\")\n",
    "    print(\"-\" * 50)\n",
    "    print(f\"1. Probabilidade de levar mais de uma hora: {prob_mais_60:.4f} ou {prob_mais_60*100:.2f}%\")\n",
    "    print(f\"2. Probabilidade de ser pelo menos 10 minutos mais rápido que a média: {prob_mais_rapido:.4f} ou {prob_mais_rapido*100:.2f}%\")\n",
    "    print(f\"3. Probabilidade de todos os 5 pilotos levarem entre 60 e 100 minutos: {prob_todos_entre_60_100:.4f} ou {prob_todos_entre_60_100*100:.2f}%\")\n",
    "    \n",
    "    # Adicionando uma tabela de probabilidades\n",
    "    print(\"\\nTabela de probabilidades para diferentes tempos:\")\n",
    "    print(\"-\" * 50)\n",
    "    print(\"Tempo (min) | Probabilidade\")\n",
    "    print(\"-\" * 50)\n",
    "    tempos = [60, 70, 80, 90, 100]\n",
    "    for t in tempos:\n",
    "        prob = norm.cdf(t, media, desvio)\n",
    "        print(f\"{t:^11d} | {prob:.4f}\")\n",
    "\n",
    "if __name__ == \"__main__\":\n",
    "    calcular_probabilidades_normal()"
   ]
  },
  {
   "cell_type": "markdown",
   "id": "7dde6e24",
   "metadata": {},
   "source": [
    "# Exercício 1\n",
    "\n",
    "Em 95% dos casos, uma certa doença pode ser curada através de um procedimento cirúrgico. Se sorteamos 20 pacientes que possuem essa doença e os submetemos à cirurgia. Tratando o resultado (cura ou não cura) de cada um desses pacientes como eventos independentes, \n",
    "\n",
    "1. Qual a probabilidade de todos os pacientes serem curados da doença?\n",
    "2. Qual a probabilidade de nenhum dos pacientes ser curado da doença?\n",
    "3. Qual a probabilidade de ao menos 15 pacientes serem curados da doença?"
   ]
  },
  {
   "cell_type": "markdown",
   "id": "76ac94ee",
   "metadata": {},
   "source": [
    "# Exercício 2\n",
    "\n",
    "Um laboratório admite que o número de partículas emitidas em um minuto por certo material radioativo A tem função de probabilidade Poisson com parâmetro $\\mu_A = 4$.\n",
    "\n",
    "1. Produza um gráfico da função de probabilidade Poisson com parâmetro $\\mu_A = 4$.\n",
    "2. Qual a probabilidade que, em dado minuto, mais de 6 partículas sejam emitidas pelo material A?\n",
    "3. Para um outro material B, a emissão de partículas por minuto tem função de probabilidade Poisson com parâmetro $\\mu_B = 0.7$. Em dado minuto, qual a probabilidade de nenhum dos materiais emitir partícula alguma. Considere a emissão de partículas pelos materiais como variáveis independentes.\n"
   ]
  },
  {
   "cell_type": "markdown",
   "id": "3049bc1c",
   "metadata": {},
   "source": [
    "# Exercício 3\n",
    "\n",
    "A distribuição geométrica possui a propriedade de \"perda de memória\".\n",
    "\n",
    "1. Pesquise e explique com suas palavras o que significa a propriedade de \"perda de memória\" (memorylessness).\n",
    "2. Qual a distribuição contínua que também possui a propriedade de \"perda de memória\".\n",
    "3. Crie um exemplo prático que ilustre a propriedade de \"perda de memória\"."
   ]
  },
  {
   "cell_type": "markdown",
   "id": "ba8ce65a",
   "metadata": {},
   "source": [
    "# Exercício 4\n",
    "\n",
    "O tempo necessário para a execução de um teste de aptidão feito por pilotos de aeronaves em treinamento é distribuido de acordo com uma Normal de 80 minutos de média e desvio padrão de 15 minutos.\n",
    "\n",
    "1. Qual a probabilidade de um aprendiz de piloto levar mais de uma hora para completar o teste?\n",
    "2. Qual a probabilidade de um aprendiz de piloto ser pelo menos 10 minutos mais rápido que a média para completar o teste?\n",
    "3. Em um grupo de 5 pilotos submetidos ao teste independentemente, qual a probabilidade de todos levarem entre 60 e 100 minutos para competar o teste?\n"
   ]
  },
  {
   "cell_type": "code",
   "execution_count": null,
   "id": "35eda9f1",
   "metadata": {},
   "outputs": [
    {
     "ename": "ModuleNotFoundError",
     "evalue": "No module named 'scipy'",
     "output_type": "error",
     "traceback": [
      "\u001b[31m---------------------------------------------------------------------------\u001b[39m\n",
      "\u001b[31mModuleNotFoundError\u001b[39m                       Traceback (most recent call last)\n",
      "\u001b[36mCell\u001b[39m\u001b[36m \u001b[39m\u001b[32mIn[2]\u001b[39m\u001b[32m, line 2\u001b[39m\n",
      "\u001b[32m      1\u001b[39m \u001b[38;5;28;01mimport\u001b[39;00m\u001b[38;5;250m \u001b[39m\u001b[34;01mnumpy\u001b[39;00m\u001b[38;5;250m \u001b[39m\u001b[38;5;28;01mas\u001b[39;00m\u001b[38;5;250m \u001b[39m\u001b[34;01mnp\u001b[39;00m\n",
      "\u001b[32m----> \u001b[39m\u001b[32m2\u001b[39m \u001b[38;5;28;01mfrom\u001b[39;00m\u001b[38;5;250m \u001b[39m\u001b[34;01mscipy\u001b[39;00m\u001b[34;01m.\u001b[39;00m\u001b[34;01mstats\u001b[39;00m\u001b[38;5;250m \u001b[39m\u001b[38;5;28;01mimport\u001b[39;00m norm\n",
      "\u001b[32m      3\u001b[39m \u001b[38;5;28;01mimport\u001b[39;00m\u001b[38;5;250m \u001b[39m\u001b[34;01mmatplotlib\u001b[39;00m\u001b[34;01m.\u001b[39;00m\u001b[34;01mpyplot\u001b[39;00m\u001b[38;5;250m \u001b[39m\u001b[38;5;28;01mas\u001b[39;00m\u001b[38;5;250m \u001b[39m\u001b[34;01mplt\u001b[39;00m\n",
      "\u001b[32m      5\u001b[39m \u001b[38;5;28;01mdef\u001b[39;00m\u001b[38;5;250m \u001b[39m\u001b[34mcalcular_probabilidades_normal\u001b[39m():\n",
      "\u001b[32m      6\u001b[39m     \u001b[38;5;66;03m# Parâmetros da distribuição normal\u001b[39;00m\n",
      "\n",
      "\u001b[31mModuleNotFoundError\u001b[39m: No module named 'scipy'"
     ]
    }
   ],
   "source": [
    "import numpy as np\n",
    "from scipy.stats import norm\n",
    "import matplotlib.pyplot as plt\n",
    "\n",
    "def calcular_probabilidades_normal():\n",
    "    # Parâmetros da distribuição normal\n",
    "    media = 80  # média em minutos\n",
    "    desvio = 15  # desvio padrão em minutos\n",
    "    \n",
    "    # Criando valores para x\n",
    "    x = np.linspace(media - 4*desvio, media + 4*desvio, 100)\n",
    "    y = norm.pdf(x, media, desvio)\n",
    "    \n",
    "    # Criando o gráfico\n",
    "    plt.figure(figsize=(10, 6))\n",
    "    plt.plot(x, y, 'b-', linewidth=2)\n",
    "    plt.fill_between(x, y, where=(x > 60), color='blue', alpha=0.3)\n",
    "    plt.title('Distribuição Normal do Tempo de Teste')\n",
    "    plt.xlabel('Tempo (minutos)')\n",
    "    plt.ylabel('Densidade de Probabilidade')\n",
    "    plt.grid(True, alpha=0.3)\n",
    "    plt.show()\n",
    "    \n",
    "    # 1. Probabilidade de levar mais de uma hora (60 minutos)\n",
    "    prob_mais_60 = 1 - norm.cdf(60, media, desvio)\n",
    "    \n",
    "    # 2. Probabilidade de ser pelo menos 10 minutos mais rápido que a média\n",
    "    prob_mais_rapido = norm.cdf(media - 10, media, desvio)\n",
    "    \n",
    "    # 3. Probabilidade de todos os 5 pilotos levarem entre 60 e 100 minutos\n",
    "    prob_entre_60_100 = norm.cdf(100, media, desvio) - norm.cdf(60, media, desvio)\n",
    "    prob_todos_entre_60_100 = prob_entre_60_100 ** 5\n",
    "    \n",
    "    # Imprimindo os resultados\n",
    "    print(\"Resultados do Exercício 4:\")\n",
    "    print(\"-\" * 50)\n",
    "    print(f\"1. Probabilidade de levar mais de uma hora: {prob_mais_60:.4f} ou {prob_mais_60*100:.2f}%\")\n",
    "    print(f\"2. Probabilidade de ser pelo menos 10 minutos mais rápido que a média: {prob_mais_rapido:.4f} ou {prob_mais_rapido*100:.2f}%\")\n",
    "    print(f\"3. Probabilidade de todos os 5 pilotos levarem entre 60 e 100 minutos: {prob_todos_entre_60_100:.4f} ou {prob_todos_entre_60_100*100:.2f}%\")\n",
    "    \n",
    "    # Adicionando uma tabela de probabilidades\n",
    "    print(\"\\nTabela de probabilidades para diferentes tempos:\")\n",
    "    print(\"-\" * 50)\n",
    "    print(\"Tempo (min) | Probabilidade\")\n",
    "    print(\"-\" * 50)\n",
    "    tempos = [60, 70, 80, 90, 100]\n",
    "    for t in tempos:\n",
    "        prob = norm.cdf(t, media, desvio)\n",
    "        print(f\"{t:^11d} | {prob:.4f}\")\n",
    "\n",
    "if __name__ == \"__main__\":\n",
    "    calcular_probabilidades_normal()"
   ]
  },
  {
   "cell_type": "markdown",
   "id": "f23eaceb",
   "metadata": {},
   "source": [
    "# Exercício 1\n",
    "\n",
    "Em 95% dos casos, uma certa doença pode ser curada através de um procedimento cirúrgico. Se sorteamos 20 pacientes que possuem essa doença e os submetemos à cirurgia. Tratando o resultado (cura ou não cura) de cada um desses pacientes como eventos independentes, \n",
    "\n",
    "1. Qual a probabilidade de todos os pacientes serem curados da doença?\n",
    "2. Qual a probabilidade de nenhum dos pacientes ser curado da doença?\n",
    "3. Qual a probabilidade de ao menos 15 pacientes serem curados da doença?"
   ]
  },
  {
   "cell_type": "markdown",
   "id": "db8d4ec7",
   "metadata": {},
   "source": [
    "# Exercício 2\n",
    "\n",
    "Um laboratório admite que o número de partículas emitidas em um minuto por certo material radioativo A tem função de probabilidade Poisson com parâmetro $\\mu_A = 4$.\n",
    "\n",
    "1. Produza um gráfico da função de probabilidade Poisson com parâmetro $\\mu_A = 4$.\n",
    "2. Qual a probabilidade que, em dado minuto, mais de 6 partículas sejam emitidas pelo material A?\n",
    "3. Para um outro material B, a emissão de partículas por minuto tem função de probabilidade Poisson com parâmetro $\\mu_B = 0.7$. Em dado minuto, qual a probabilidade de nenhum dos materiais emitir partícula alguma. Considere a emissão de partículas pelos materiais como variáveis independentes.\n"
   ]
  },
  {
   "cell_type": "markdown",
   "id": "5e397a39",
   "metadata": {},
   "source": [
    "# Exercício 3\n",
    "\n",
    "A distribuição geométrica possui a propriedade de \"perda de memória\".\n",
    "\n",
    "1. Pesquise e explique com suas palavras o que significa a propriedade de \"perda de memória\" (memorylessness).\n",
    "2. Qual a distribuição contínua que também possui a propriedade de \"perda de memória\".\n",
    "3. Crie um exemplo prático que ilustre a propriedade de \"perda de memória\"."
   ]
  },
  {
   "cell_type": "markdown",
   "id": "d5c645f4",
   "metadata": {},
   "source": [
    "# Exercício 4\n",
    "\n",
    "O tempo necessário para a execução de um teste de aptidão feito por pilotos de aeronaves em treinamento é distribuido de acordo com uma Normal de 80 minutos de média e desvio padrão de 15 minutos.\n",
    "\n",
    "1. Qual a probabilidade de um aprendiz de piloto levar mais de uma hora para completar o teste?\n",
    "2. Qual a probabilidade de um aprendiz de piloto ser pelo menos 10 minutos mais rápido que a média para completar o teste?\n",
    "3. Em um grupo de 5 pilotos submetidos ao teste independentemente, qual a probabilidade de todos levarem entre 60 e 100 minutos para competar o teste?\n"
   ]
  },
  {
   "cell_type": "code",
   "execution_count": null,
   "id": "406c8ce9",
   "metadata": {},
   "outputs": [
    {
     "ename": "ModuleNotFoundError",
     "evalue": "No module named 'scipy'",
     "output_type": "error",
     "traceback": [
      "\u001b[31m---------------------------------------------------------------------------\u001b[39m\n",
      "\u001b[31mModuleNotFoundError\u001b[39m                       Traceback (most recent call last)\n",
      "\u001b[36mCell\u001b[39m\u001b[36m \u001b[39m\u001b[32mIn[2]\u001b[39m\u001b[32m, line 2\u001b[39m\n",
      "\u001b[32m      1\u001b[39m \u001b[38;5;28;01mimport\u001b[39;00m\u001b[38;5;250m \u001b[39m\u001b[34;01mnumpy\u001b[39;00m\u001b[38;5;250m \u001b[39m\u001b[38;5;28;01mas\u001b[39;00m\u001b[38;5;250m \u001b[39m\u001b[34;01mnp\u001b[39;00m\n",
      "\u001b[32m----> \u001b[39m\u001b[32m2\u001b[39m \u001b[38;5;28;01mfrom\u001b[39;00m\u001b[38;5;250m \u001b[39m\u001b[34;01mscipy\u001b[39;00m\u001b[34;01m.\u001b[39;00m\u001b[34;01mstats\u001b[39;00m\u001b[38;5;250m \u001b[39m\u001b[38;5;28;01mimport\u001b[39;00m norm\n",
      "\u001b[32m      3\u001b[39m \u001b[38;5;28;01mimport\u001b[39;00m\u001b[38;5;250m \u001b[39m\u001b[34;01mmatplotlib\u001b[39;00m\u001b[34;01m.\u001b[39;00m\u001b[34;01mpyplot\u001b[39;00m\u001b[38;5;250m \u001b[39m\u001b[38;5;28;01mas\u001b[39;00m\u001b[38;5;250m \u001b[39m\u001b[34;01mplt\u001b[39;00m\n",
      "\u001b[32m      5\u001b[39m \u001b[38;5;28;01mdef\u001b[39;00m\u001b[38;5;250m \u001b[39m\u001b[34mcalcular_probabilidades_normal\u001b[39m():\n",
      "\u001b[32m      6\u001b[39m     \u001b[38;5;66;03m# Parâmetros da distribuição normal\u001b[39;00m\n",
      "\n",
      "\u001b[31mModuleNotFoundError\u001b[39m: No module named 'scipy'"
     ]
    }
   ],
   "source": [
    "import numpy as np\n",
    "from scipy.stats import norm\n",
    "import matplotlib.pyplot as plt\n",
    "\n",
    "def calcular_probabilidades_normal():\n",
    "    # Parâmetros da distribuição normal\n",
    "    media = 80  # média em minutos\n",
    "    desvio = 15  # desvio padrão em minutos\n",
    "    \n",
    "    # Criando valores para x\n",
    "    x = np.linspace(media - 4*desvio, media + 4*desvio, 100)\n",
    "    y = norm.pdf(x, media, desvio)\n",
    "    \n",
    "    # Criando o gráfico\n",
    "    plt.figure(figsize=(10, 6))\n",
    "    plt.plot(x, y, 'b-', linewidth=2)\n",
    "    plt.fill_between(x, y, where=(x > 60), color='blue', alpha=0.3)\n",
    "    plt.title('Distribuição Normal do Tempo de Teste')\n",
    "    plt.xlabel('Tempo (minutos)')\n",
    "    plt.ylabel('Densidade de Probabilidade')\n",
    "    plt.grid(True, alpha=0.3)\n",
    "    plt.show()\n",
    "    \n",
    "    # 1. Probabilidade de levar mais de uma hora (60 minutos)\n",
    "    prob_mais_60 = 1 - norm.cdf(60, media, desvio)\n",
    "    \n",
    "    # 2. Probabilidade de ser pelo menos 10 minutos mais rápido que a média\n",
    "    prob_mais_rapido = norm.cdf(media - 10, media, desvio)\n",
    "    \n",
    "    # 3. Probabilidade de todos os 5 pilotos levarem entre 60 e 100 minutos\n",
    "    prob_entre_60_100 = norm.cdf(100, media, desvio) - norm.cdf(60, media, desvio)\n",
    "    prob_todos_entre_60_100 = prob_entre_60_100 ** 5\n",
    "    \n",
    "    # Imprimindo os resultados\n",
    "    print(\"Resultados do Exercício 4:\")\n",
    "    print(\"-\" * 50)\n",
    "    print(f\"1. Probabilidade de levar mais de uma hora: {prob_mais_60:.4f} ou {prob_mais_60*100:.2f}%\")\n",
    "    print(f\"2. Probabilidade de ser pelo menos 10 minutos mais rápido que a média: {prob_mais_rapido:.4f} ou {prob_mais_rapido*100:.2f}%\")\n",
    "    print(f\"3. Probabilidade de todos os 5 pilotos levarem entre 60 e 100 minutos: {prob_todos_entre_60_100:.4f} ou {prob_todos_entre_60_100*100:.2f}%\")\n",
    "    \n",
    "    # Adicionando uma tabela de probabilidades\n",
    "    print(\"\\nTabela de probabilidades para diferentes tempos:\")\n",
    "    print(\"-\" * 50)\n",
    "    print(\"Tempo (min) | Probabilidade\")\n",
    "    print(\"-\" * 50)\n",
    "    tempos = [60, 70, 80, 90, 100]\n",
    "    for t in tempos:\n",
    "        prob = norm.cdf(t, media, desvio)\n",
    "        print(f\"{t:^11d} | {prob:.4f}\")\n",
    "\n",
    "if __name__ == \"__main__\":\n",
    "    calcular_probabilidades_normal()"
   ]
  }
 ],
 "metadata": {
  "kernelspec": {
   "display_name": "Python 3",
   "language": "python",
   "name": "python3"
  },
  "language_info": {
   "codemirror_mode": {
    "name": "ipython",
    "version": 3
   },
   "file_extension": ".py",
   "mimetype": "text/x-python",
   "name": "python",
   "nbconvert_exporter": "python",
   "pygments_lexer": "ipython3",
   "version": "3.11.0"
  }
 },
 "nbformat": 4,
 "nbformat_minor": 5
}
